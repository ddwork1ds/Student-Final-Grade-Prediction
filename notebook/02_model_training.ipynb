{
 "cells": [
  {
   "cell_type": "code",
   "execution_count": null,
   "id": "23f37098",
   "metadata": {},
   "outputs": [],
   "source": [
    "import numpy as np\n",
    "import pandas as pd\n",
    "from sklearn.model_selection import train_test_split, GridSearchCV, KFold\n",
    "from sklearn.dummy import DummyRegressor\n",
    "from sklearn.linear_model import LinearRegression\n",
    "from sklearn.tree import DecisionTreeRegressor\n",
    "from sklearn.ensemble import RandomForestRegressor\n",
    "from sklearn.metrics import mean_squared_error, r2_score\n",
    "from sklearn.compose import ColumnTransformer\n",
    "from sklearn.preprocessing import OneHotEncoder, StandardScaler\n",
    "from sklearn.pipeline import Pipeline\n",
    "import joblib"
   ]
  },
  {
   "cell_type": "code",
   "execution_count": null,
   "id": "82d6b6f6",
   "metadata": {},
   "outputs": [],
   "source": [
    "# Seed cố định\n",
    "RANDOM_STATE = 42"
   ]
  },
  {
   "cell_type": "code",
   "execution_count": null,
   "id": "99ca83c4",
   "metadata": {},
   "outputs": [],
   "source": [
    "# Thiết lập Cross-Validation cố định\n",
    "from sklearn.model_selection import KFold\n",
    "cv = KFold(n_splits=5, shuffle=True, random_state=RANDOM_STATE)"
   ]
  },
  {
   "cell_type": "code",
   "execution_count": null,
   "id": "bfe34108",
   "metadata": {},
   "outputs": [],
   "source": [
    "features = ['sex', 'age', 'failures', 'higher', 'paid', 'absences', 'G_Avg']\n",
    "target = \"G3_10\""
   ]
  },
  {
   "cell_type": "code",
   "execution_count": null,
   "id": "602a1ca4",
   "metadata": {},
   "outputs": [],
   "source": [
    "X = df[features].copy()\n",
    "y = df[target].copy()"
   ]
  },
  {
   "cell_type": "code",
   "execution_count": null,
   "id": "6ecf0074",
   "metadata": {},
   "outputs": [],
   "source": [
    "X_train, X_test, y_train, y_test = train_test_split(X, y, test_size=0.2, random_state=RANDOM_STATE)"
   ]
  },
  {
   "cell_type": "code",
   "execution_count": null,
   "id": "4ac71eec",
   "metadata": {},
   "outputs": [],
   "source": [
    "categorical_feats = ['sex', 'higher', 'paid']\n",
    "numeric_feats = [c for c in features if c not in categorical_feats]\n",
    "\n",
    "preprocessor = ColumnTransformer(\n",
    "    transformers=[\n",
    "        (\"num\", StandardScaler(), numeric_feats),\n",
    "        (\"cat\", OneHotEncoder(handle_unknown=\"ignore\", sparse_output=False), categorical_feats)\n",
    "    ],\n",
    "    remainder=\"drop\"\n",
    ")"
   ]
  },
  {
   "cell_type": "code",
   "execution_count": null,
   "id": "3ec09ebe",
   "metadata": {},
   "outputs": [],
   "source": [
    "models = {\n",
    "    \"Baseline(mean)\": {\n",
    "        \"model\": DummyRegressor(strategy=\"mean\"),\n",
    "        \"params\": {}\n",
    "    },\n",
    "    \"LinearRegression\": {\n",
    "        \"model\": LinearRegression(),\n",
    "        \"params\": {}\n",
    "    },\n",
    "    \"DecisionTree\": {\n",
    "        \"model\": DecisionTreeRegressor(random_state=RANDOM_STATE),\n",
    "        \"params\": {\n",
    "            \"model__max_depth\": [3, 5, 10],\n",
    "            \"model__min_samples_split\": [2, 5]\n",
    "        }\n",
    "    },\n",
    "    \"RandomForest\": {\n",
    "        \"model\": RandomForestRegressor(random_state=RANDOM_STATE),\n",
    "        \"params\": {\n",
    "            \"model__n_estimators\": [50, 100],\n",
    "            \"model__max_depth\": [5, 10]\n",
    "        }\n",
    "    }\n",
    "}"
   ]
  },
  {
   "cell_type": "code",
   "execution_count": null,
   "id": "ae0be5f0",
   "metadata": {},
   "outputs": [],
   "source": [
    "best_models = []\n",
    "for name, cfg in models.items():\n",
    "    print(f\"\\n--- Training {name} ---\")\n",
    "    pipe = Pipeline([\n",
    "        (\"pre\", preprocessor),\n",
    "        (\"model\", cfg[\"model\"])  \n",
    "    ])\n",
    "    param_grid = cfg[\"params\"]\n",
    "    \n",
    "    if param_grid:\n",
    "        grid = GridSearchCV(pipe, param_grid, cv=cv, scoring=\"neg_mean_squared_error\", n_jobs=-1)\n",
    "        grid.fit(X_train, y_train)\n",
    "        best_est = grid.best_estimator_\n",
    "        best_params = grid.best_params_\n",
    "    else:\n",
    "        best_est = pipe.fit(X_train, y_train)\n",
    "        best_params = {}\n",
    "\n",
    "    # predict\n",
    "    y_pred = best_est.predict(X_test)\n",
    "    rmse = np.sqrt(mean_squared_error(y_test, y_pred))\n",
    "    r2 = r2_score(y_test, y_pred)\n",
    "\n",
    "    print(f\"{name} -> RMSE: {rmse:.6f}, R2: {r2:.6f}, best_params: {best_params}\")\n",
    "    best_models.append({\n",
    "        \"model\": name,\n",
    "        \"best_params\": best_params,\n",
    "        \"rmse\": rmse,\n",
    "        \"r2\": r2,\n",
    "        \"pipeline\": best_est\n",
    "    })"
   ]
  },
  {
   "cell_type": "code",
   "execution_count": null,
   "id": "60f93983",
   "metadata": {},
   "outputs": [],
   "source": [
    "results_df = pd.DataFrame(best_models).sort_values(\"rmse\").reset_index(drop=True)\n",
    "\n",
    "print(results_df[[\"model\", \"best_params\", \"rmse\", \"r2\"]])\n",
    "\n",
    "best_row = results_df.iloc[0]\n",
    "print(\"\\nBest model:\", best_row[\"model\"], \"RMSE:\", best_row[\"rmse\"], \"R2:\", best_row[\"r2\"])"
   ]
  },
  {
   "cell_type": "code",
   "execution_count": null,
   "id": "6dbc4c12",
   "metadata": {},
   "outputs": [],
   "source": [
    "joblib.dump(best_row[\"pipeline\"], \"best_pipeline_model.pkl\")\n",
    "print(\"Saved best pipeline to best_pipeline_model.pkl\")"
   ]
  },
  {
   "cell_type": "code",
   "execution_count": null,
   "id": "a13d35d5",
   "metadata": {},
   "outputs": [],
   "source": [
    "joblib.load(\"best_pipeline_model.pkl\").predict(X_test)"
   ]
  }
 ],
 "metadata": {
  "language_info": {
   "name": "python"
  }
 },
 "nbformat": 4,
 "nbformat_minor": 5
}
